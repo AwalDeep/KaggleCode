{
 "cells": [
  {
   "cell_type": "code",
   "execution_count": 1,
   "id": "f0c839db",
   "metadata": {
    "_cell_guid": "b1076dfc-b9ad-4769-8c92-a6c4dae69d19",
    "_uuid": "8f2839f25d086af736a60e9eeb907d3b93b6e0e5",
    "execution": {
     "iopub.execute_input": "2022-06-24T12:24:34.195532Z",
     "iopub.status.busy": "2022-06-24T12:24:34.195061Z",
     "iopub.status.idle": "2022-06-24T12:24:34.204502Z",
     "shell.execute_reply": "2022-06-24T12:24:34.203437Z"
    },
    "papermill": {
     "duration": 0.022456,
     "end_time": "2022-06-24T12:24:34.206643",
     "exception": false,
     "start_time": "2022-06-24T12:24:34.184187",
     "status": "completed"
    },
    "tags": []
   },
   "outputs": [],
   "source": [
    "# Import libraries\n",
    "import os\n",
    "import warnings\n",
    "\n",
    "import numpy as np\n",
    "import pandas as pd\n",
    "\n",
    "import gc  # Garbage collector\n",
    "\n",
    "warnings.filterwarnings('ignore')"
   ]
  },
  {
   "cell_type": "markdown",
   "id": "7e346ff4",
   "metadata": {
    "papermill": {
     "duration": 0.007193,
     "end_time": "2022-06-24T12:24:34.221571",
     "exception": false,
     "start_time": "2022-06-24T12:24:34.214378",
     "status": "completed"
    },
    "tags": []
   },
   "source": [
    "#### For EDA, refer: https://www.kaggle.com/code/awaldeep/first-look-eda/data"
   ]
  },
  {
   "cell_type": "markdown",
   "id": "1c305366",
   "metadata": {
    "papermill": {
     "duration": 0.007392,
     "end_time": "2022-06-24T12:24:34.236365",
     "exception": false,
     "start_time": "2022-06-24T12:24:34.228973",
     "status": "completed"
    },
    "tags": []
   },
   "source": [
    "### Data pre-processing"
   ]
  },
  {
   "cell_type": "code",
   "execution_count": 2,
   "id": "93f9366d",
   "metadata": {
    "execution": {
     "iopub.execute_input": "2022-06-24T12:24:34.253690Z",
     "iopub.status.busy": "2022-06-24T12:24:34.253037Z",
     "iopub.status.idle": "2022-06-24T12:24:52.597605Z",
     "shell.execute_reply": "2022-06-24T12:24:52.596469Z"
    },
    "papermill": {
     "duration": 18.356251,
     "end_time": "2022-06-24T12:24:52.600059",
     "exception": false,
     "start_time": "2022-06-24T12:24:34.243808",
     "status": "completed"
    },
    "tags": []
   },
   "outputs": [],
   "source": [
    "# Reading feather format data(memory efficient, available on kaggle: https://www.kaggle.com/datasets/munumbutt/amexfeather) \n",
    "train_raw = pd.read_feather('../input/amexfeather/train_data.ftr')"
   ]
  },
  {
   "cell_type": "code",
   "execution_count": 3,
   "id": "8a2e4c22",
   "metadata": {
    "execution": {
     "iopub.execute_input": "2022-06-24T12:24:52.618086Z",
     "iopub.status.busy": "2022-06-24T12:24:52.617537Z",
     "iopub.status.idle": "2022-06-24T12:24:52.650237Z",
     "shell.execute_reply": "2022-06-24T12:24:52.649214Z"
    },
    "papermill": {
     "duration": 0.044864,
     "end_time": "2022-06-24T12:24:52.652661",
     "exception": false,
     "start_time": "2022-06-24T12:24:52.607797",
     "status": "completed"
    },
    "tags": []
   },
   "outputs": [
    {
     "data": {
      "text/html": [
       "<div>\n",
       "<style scoped>\n",
       "    .dataframe tbody tr th:only-of-type {\n",
       "        vertical-align: middle;\n",
       "    }\n",
       "\n",
       "    .dataframe tbody tr th {\n",
       "        vertical-align: top;\n",
       "    }\n",
       "\n",
       "    .dataframe thead th {\n",
       "        text-align: right;\n",
       "    }\n",
       "</style>\n",
       "<table border=\"1\" class=\"dataframe\">\n",
       "  <thead>\n",
       "    <tr style=\"text-align: right;\">\n",
       "      <th></th>\n",
       "      <th>customer_ID</th>\n",
       "      <th>S_2</th>\n",
       "      <th>P_2</th>\n",
       "      <th>D_39</th>\n",
       "      <th>B_1</th>\n",
       "      <th>B_2</th>\n",
       "      <th>R_1</th>\n",
       "      <th>S_3</th>\n",
       "      <th>D_41</th>\n",
       "      <th>B_3</th>\n",
       "      <th>...</th>\n",
       "      <th>D_137</th>\n",
       "      <th>D_138</th>\n",
       "      <th>D_139</th>\n",
       "      <th>D_140</th>\n",
       "      <th>D_141</th>\n",
       "      <th>D_142</th>\n",
       "      <th>D_143</th>\n",
       "      <th>D_144</th>\n",
       "      <th>D_145</th>\n",
       "      <th>target</th>\n",
       "    </tr>\n",
       "  </thead>\n",
       "  <tbody>\n",
       "    <tr>\n",
       "      <th>0</th>\n",
       "      <td>0000099d6bd597052cdcda90ffabf56573fe9d7c79be5f...</td>\n",
       "      <td>2017-03-09</td>\n",
       "      <td>0.938477</td>\n",
       "      <td>0.001734</td>\n",
       "      <td>0.008728</td>\n",
       "      <td>1.006836</td>\n",
       "      <td>0.009224</td>\n",
       "      <td>0.124023</td>\n",
       "      <td>0.008774</td>\n",
       "      <td>0.004707</td>\n",
       "      <td>...</td>\n",
       "      <td>NaN</td>\n",
       "      <td>NaN</td>\n",
       "      <td>0.002426</td>\n",
       "      <td>0.003706</td>\n",
       "      <td>0.003819</td>\n",
       "      <td>NaN</td>\n",
       "      <td>0.000569</td>\n",
       "      <td>0.000610</td>\n",
       "      <td>0.002674</td>\n",
       "      <td>0</td>\n",
       "    </tr>\n",
       "    <tr>\n",
       "      <th>1</th>\n",
       "      <td>0000099d6bd597052cdcda90ffabf56573fe9d7c79be5f...</td>\n",
       "      <td>2017-04-07</td>\n",
       "      <td>0.936523</td>\n",
       "      <td>0.005775</td>\n",
       "      <td>0.004925</td>\n",
       "      <td>1.000977</td>\n",
       "      <td>0.006153</td>\n",
       "      <td>0.126709</td>\n",
       "      <td>0.000798</td>\n",
       "      <td>0.002714</td>\n",
       "      <td>...</td>\n",
       "      <td>NaN</td>\n",
       "      <td>NaN</td>\n",
       "      <td>0.003956</td>\n",
       "      <td>0.003166</td>\n",
       "      <td>0.005032</td>\n",
       "      <td>NaN</td>\n",
       "      <td>0.009575</td>\n",
       "      <td>0.005493</td>\n",
       "      <td>0.009216</td>\n",
       "      <td>0</td>\n",
       "    </tr>\n",
       "  </tbody>\n",
       "</table>\n",
       "<p>2 rows × 191 columns</p>\n",
       "</div>"
      ],
      "text/plain": [
       "                                         customer_ID        S_2       P_2  \\\n",
       "0  0000099d6bd597052cdcda90ffabf56573fe9d7c79be5f... 2017-03-09  0.938477   \n",
       "1  0000099d6bd597052cdcda90ffabf56573fe9d7c79be5f... 2017-04-07  0.936523   \n",
       "\n",
       "       D_39       B_1       B_2       R_1       S_3      D_41       B_3  ...  \\\n",
       "0  0.001734  0.008728  1.006836  0.009224  0.124023  0.008774  0.004707  ...   \n",
       "1  0.005775  0.004925  1.000977  0.006153  0.126709  0.000798  0.002714  ...   \n",
       "\n",
       "   D_137  D_138     D_139     D_140     D_141  D_142     D_143     D_144  \\\n",
       "0    NaN    NaN  0.002426  0.003706  0.003819    NaN  0.000569  0.000610   \n",
       "1    NaN    NaN  0.003956  0.003166  0.005032    NaN  0.009575  0.005493   \n",
       "\n",
       "      D_145  target  \n",
       "0  0.002674       0  \n",
       "1  0.009216       0  \n",
       "\n",
       "[2 rows x 191 columns]"
      ]
     },
     "execution_count": 3,
     "metadata": {},
     "output_type": "execute_result"
    }
   ],
   "source": [
    "train_raw.head(2)"
   ]
  },
  {
   "cell_type": "code",
   "execution_count": 4,
   "id": "3854ffae",
   "metadata": {
    "execution": {
     "iopub.execute_input": "2022-06-24T12:24:52.670584Z",
     "iopub.status.busy": "2022-06-24T12:24:52.670164Z",
     "iopub.status.idle": "2022-06-24T12:24:52.698008Z",
     "shell.execute_reply": "2022-06-24T12:24:52.697111Z"
    },
    "papermill": {
     "duration": 0.039869,
     "end_time": "2022-06-24T12:24:52.700720",
     "exception": false,
     "start_time": "2022-06-24T12:24:52.660851",
     "status": "completed"
    },
    "tags": []
   },
   "outputs": [
    {
     "name": "stdout",
     "output_type": "stream",
     "text": [
      "<class 'pandas.core.frame.DataFrame'>\n",
      "RangeIndex: 5531451 entries, 0 to 5531450\n",
      "Columns: 191 entries, customer_ID to target\n",
      "dtypes: category(11), datetime64[ns](1), float16(177), int64(1), object(1)\n",
      "memory usage: 2.0+ GB\n"
     ]
    }
   ],
   "source": [
    "train_raw.info()"
   ]
  },
  {
   "cell_type": "code",
   "execution_count": 5,
   "id": "47c85074",
   "metadata": {
    "execution": {
     "iopub.execute_input": "2022-06-24T12:24:52.719848Z",
     "iopub.status.busy": "2022-06-24T12:24:52.718941Z",
     "iopub.status.idle": "2022-06-24T12:24:58.065792Z",
     "shell.execute_reply": "2022-06-24T12:24:58.064854Z"
    },
    "papermill": {
     "duration": 5.358164,
     "end_time": "2022-06-24T12:24:58.068052",
     "exception": false,
     "start_time": "2022-06-24T12:24:52.709888",
     "status": "completed"
    },
    "tags": []
   },
   "outputs": [],
   "source": [
    "# Missing values\n",
    "tmp = train_raw.isna().sum().mul(100).div(len(train_raw)).sort_values(ascending=False)"
   ]
  },
  {
   "cell_type": "markdown",
   "id": "fe1cc8e0",
   "metadata": {
    "papermill": {
     "duration": 0.007838,
     "end_time": "2022-06-24T12:24:58.083972",
     "exception": false,
     "start_time": "2022-06-24T12:24:58.076134",
     "status": "completed"
    },
    "tags": []
   },
   "source": [
    "### Handling missing values"
   ]
  },
  {
   "cell_type": "code",
   "execution_count": 6,
   "id": "394cee0b",
   "metadata": {
    "execution": {
     "iopub.execute_input": "2022-06-24T12:24:58.101277Z",
     "iopub.status.busy": "2022-06-24T12:24:58.100870Z",
     "iopub.status.idle": "2022-06-24T12:24:58.110571Z",
     "shell.execute_reply": "2022-06-24T12:24:58.109771Z"
    },
    "papermill": {
     "duration": 0.020545,
     "end_time": "2022-06-24T12:24:58.112439",
     "exception": false,
     "start_time": "2022-06-24T12:24:58.091894",
     "status": "completed"
    },
    "tags": []
   },
   "outputs": [
    {
     "name": "stdout",
     "output_type": "stream",
     "text": [
      "['D_87' 'D_88' 'D_108' 'D_111' 'D_110' 'B_39' 'D_73' 'B_42' 'D_136'\n",
      " 'D_138' 'D_137' 'D_135' 'D_134' 'R_9' 'B_29' 'D_106' 'D_132' 'D_49'\n",
      " 'R_26' 'D_76' 'D_66' 'D_42' 'D_142' 'D_53' 'D_82']\n"
     ]
    }
   ],
   "source": [
    "# dropping columns with missing values >70%\n",
    "missingDF = pd.DataFrame(tmp).reset_index()\n",
    "drop_cols = missingDF[missingDF[0]>70][\"index\"].values\n",
    "print(drop_cols)"
   ]
  },
  {
   "cell_type": "code",
   "execution_count": 7,
   "id": "cbba712a",
   "metadata": {
    "execution": {
     "iopub.execute_input": "2022-06-24T12:24:58.129632Z",
     "iopub.status.busy": "2022-06-24T12:24:58.129246Z",
     "iopub.status.idle": "2022-06-24T12:24:59.466156Z",
     "shell.execute_reply": "2022-06-24T12:24:59.465255Z"
    },
    "papermill": {
     "duration": 1.347951,
     "end_time": "2022-06-24T12:24:59.468303",
     "exception": false,
     "start_time": "2022-06-24T12:24:58.120352",
     "status": "completed"
    },
    "tags": []
   },
   "outputs": [
    {
     "data": {
      "text/html": [
       "<div>\n",
       "<style scoped>\n",
       "    .dataframe tbody tr th:only-of-type {\n",
       "        vertical-align: middle;\n",
       "    }\n",
       "\n",
       "    .dataframe tbody tr th {\n",
       "        vertical-align: top;\n",
       "    }\n",
       "\n",
       "    .dataframe thead th {\n",
       "        text-align: right;\n",
       "    }\n",
       "</style>\n",
       "<table border=\"1\" class=\"dataframe\">\n",
       "  <thead>\n",
       "    <tr style=\"text-align: right;\">\n",
       "      <th></th>\n",
       "      <th>customer_ID</th>\n",
       "      <th>S_2</th>\n",
       "      <th>P_2</th>\n",
       "      <th>D_39</th>\n",
       "      <th>B_1</th>\n",
       "      <th>B_2</th>\n",
       "      <th>R_1</th>\n",
       "      <th>S_3</th>\n",
       "      <th>D_41</th>\n",
       "      <th>B_3</th>\n",
       "      <th>...</th>\n",
       "      <th>D_137</th>\n",
       "      <th>D_138</th>\n",
       "      <th>D_139</th>\n",
       "      <th>D_140</th>\n",
       "      <th>D_141</th>\n",
       "      <th>D_142</th>\n",
       "      <th>D_143</th>\n",
       "      <th>D_144</th>\n",
       "      <th>D_145</th>\n",
       "      <th>target</th>\n",
       "    </tr>\n",
       "  </thead>\n",
       "  <tbody>\n",
       "    <tr>\n",
       "      <th>0</th>\n",
       "      <td>0000099d6bd597052cdcda90ffabf56573fe9d7c79be5f...</td>\n",
       "      <td>2017-03-09</td>\n",
       "      <td>0.938477</td>\n",
       "      <td>0.001734</td>\n",
       "      <td>0.008728</td>\n",
       "      <td>1.006836</td>\n",
       "      <td>0.009224</td>\n",
       "      <td>0.124023</td>\n",
       "      <td>0.008774</td>\n",
       "      <td>0.004707</td>\n",
       "      <td>...</td>\n",
       "      <td>NaN</td>\n",
       "      <td>NaN</td>\n",
       "      <td>0.002426</td>\n",
       "      <td>0.003706</td>\n",
       "      <td>0.003819</td>\n",
       "      <td>NaN</td>\n",
       "      <td>0.000569</td>\n",
       "      <td>0.000610</td>\n",
       "      <td>0.002674</td>\n",
       "      <td>0</td>\n",
       "    </tr>\n",
       "    <tr>\n",
       "      <th>1</th>\n",
       "      <td>0000099d6bd597052cdcda90ffabf56573fe9d7c79be5f...</td>\n",
       "      <td>2017-04-07</td>\n",
       "      <td>0.936523</td>\n",
       "      <td>0.005775</td>\n",
       "      <td>0.004925</td>\n",
       "      <td>1.000977</td>\n",
       "      <td>0.006153</td>\n",
       "      <td>0.126709</td>\n",
       "      <td>0.000798</td>\n",
       "      <td>0.002714</td>\n",
       "      <td>...</td>\n",
       "      <td>NaN</td>\n",
       "      <td>NaN</td>\n",
       "      <td>0.003956</td>\n",
       "      <td>0.003166</td>\n",
       "      <td>0.005032</td>\n",
       "      <td>NaN</td>\n",
       "      <td>0.009575</td>\n",
       "      <td>0.005493</td>\n",
       "      <td>0.009216</td>\n",
       "      <td>0</td>\n",
       "    </tr>\n",
       "    <tr>\n",
       "      <th>2</th>\n",
       "      <td>0000099d6bd597052cdcda90ffabf56573fe9d7c79be5f...</td>\n",
       "      <td>2017-05-28</td>\n",
       "      <td>0.954102</td>\n",
       "      <td>0.091492</td>\n",
       "      <td>0.021652</td>\n",
       "      <td>1.009766</td>\n",
       "      <td>0.006817</td>\n",
       "      <td>0.123962</td>\n",
       "      <td>0.007599</td>\n",
       "      <td>0.009422</td>\n",
       "      <td>...</td>\n",
       "      <td>NaN</td>\n",
       "      <td>NaN</td>\n",
       "      <td>0.003269</td>\n",
       "      <td>0.007328</td>\n",
       "      <td>0.000427</td>\n",
       "      <td>NaN</td>\n",
       "      <td>0.003429</td>\n",
       "      <td>0.006985</td>\n",
       "      <td>0.002604</td>\n",
       "      <td>0</td>\n",
       "    </tr>\n",
       "    <tr>\n",
       "      <th>3</th>\n",
       "      <td>0000099d6bd597052cdcda90ffabf56573fe9d7c79be5f...</td>\n",
       "      <td>2017-06-13</td>\n",
       "      <td>0.960449</td>\n",
       "      <td>0.002455</td>\n",
       "      <td>0.013687</td>\n",
       "      <td>1.002930</td>\n",
       "      <td>0.001372</td>\n",
       "      <td>0.117188</td>\n",
       "      <td>0.000685</td>\n",
       "      <td>0.005531</td>\n",
       "      <td>...</td>\n",
       "      <td>NaN</td>\n",
       "      <td>NaN</td>\n",
       "      <td>0.006119</td>\n",
       "      <td>0.004517</td>\n",
       "      <td>0.003201</td>\n",
       "      <td>NaN</td>\n",
       "      <td>0.008423</td>\n",
       "      <td>0.006527</td>\n",
       "      <td>0.009598</td>\n",
       "      <td>0</td>\n",
       "    </tr>\n",
       "    <tr>\n",
       "      <th>4</th>\n",
       "      <td>0000099d6bd597052cdcda90ffabf56573fe9d7c79be5f...</td>\n",
       "      <td>2017-07-16</td>\n",
       "      <td>0.947266</td>\n",
       "      <td>0.002483</td>\n",
       "      <td>0.015190</td>\n",
       "      <td>1.000977</td>\n",
       "      <td>0.007607</td>\n",
       "      <td>0.117310</td>\n",
       "      <td>0.004654</td>\n",
       "      <td>0.009308</td>\n",
       "      <td>...</td>\n",
       "      <td>NaN</td>\n",
       "      <td>NaN</td>\n",
       "      <td>0.003672</td>\n",
       "      <td>0.004944</td>\n",
       "      <td>0.008888</td>\n",
       "      <td>NaN</td>\n",
       "      <td>0.001670</td>\n",
       "      <td>0.008125</td>\n",
       "      <td>0.009827</td>\n",
       "      <td>0</td>\n",
       "    </tr>\n",
       "    <tr>\n",
       "      <th>...</th>\n",
       "      <td>...</td>\n",
       "      <td>...</td>\n",
       "      <td>...</td>\n",
       "      <td>...</td>\n",
       "      <td>...</td>\n",
       "      <td>...</td>\n",
       "      <td>...</td>\n",
       "      <td>...</td>\n",
       "      <td>...</td>\n",
       "      <td>...</td>\n",
       "      <td>...</td>\n",
       "      <td>...</td>\n",
       "      <td>...</td>\n",
       "      <td>...</td>\n",
       "      <td>...</td>\n",
       "      <td>...</td>\n",
       "      <td>...</td>\n",
       "      <td>...</td>\n",
       "      <td>...</td>\n",
       "      <td>...</td>\n",
       "      <td>...</td>\n",
       "    </tr>\n",
       "    <tr>\n",
       "      <th>5531446</th>\n",
       "      <td>fffff1d38b785cef84adeace64f8f83db3a0c31e8d92ea...</td>\n",
       "      <td>2017-11-05</td>\n",
       "      <td>0.979492</td>\n",
       "      <td>0.416016</td>\n",
       "      <td>0.020813</td>\n",
       "      <td>0.828125</td>\n",
       "      <td>0.003487</td>\n",
       "      <td>0.090759</td>\n",
       "      <td>0.005341</td>\n",
       "      <td>0.025146</td>\n",
       "      <td>...</td>\n",
       "      <td>NaN</td>\n",
       "      <td>NaN</td>\n",
       "      <td>0.006836</td>\n",
       "      <td>0.003679</td>\n",
       "      <td>0.000457</td>\n",
       "      <td>NaN</td>\n",
       "      <td>0.000906</td>\n",
       "      <td>0.001497</td>\n",
       "      <td>0.002775</td>\n",
       "      <td>0</td>\n",
       "    </tr>\n",
       "    <tr>\n",
       "      <th>5531447</th>\n",
       "      <td>fffff1d38b785cef84adeace64f8f83db3a0c31e8d92ea...</td>\n",
       "      <td>2017-12-23</td>\n",
       "      <td>0.984863</td>\n",
       "      <td>0.296631</td>\n",
       "      <td>0.007210</td>\n",
       "      <td>0.812500</td>\n",
       "      <td>0.005905</td>\n",
       "      <td>0.079895</td>\n",
       "      <td>0.002243</td>\n",
       "      <td>0.023697</td>\n",
       "      <td>...</td>\n",
       "      <td>NaN</td>\n",
       "      <td>NaN</td>\n",
       "      <td>0.003309</td>\n",
       "      <td>0.007095</td>\n",
       "      <td>0.007858</td>\n",
       "      <td>NaN</td>\n",
       "      <td>0.002777</td>\n",
       "      <td>0.008224</td>\n",
       "      <td>0.008858</td>\n",
       "      <td>0</td>\n",
       "    </tr>\n",
       "    <tr>\n",
       "      <th>5531448</th>\n",
       "      <td>fffff1d38b785cef84adeace64f8f83db3a0c31e8d92ea...</td>\n",
       "      <td>2018-01-06</td>\n",
       "      <td>0.982910</td>\n",
       "      <td>0.444092</td>\n",
       "      <td>0.013153</td>\n",
       "      <td>0.815430</td>\n",
       "      <td>0.003456</td>\n",
       "      <td>0.100525</td>\n",
       "      <td>0.002111</td>\n",
       "      <td>0.012344</td>\n",
       "      <td>...</td>\n",
       "      <td>NaN</td>\n",
       "      <td>NaN</td>\n",
       "      <td>0.009956</td>\n",
       "      <td>0.009995</td>\n",
       "      <td>0.001088</td>\n",
       "      <td>NaN</td>\n",
       "      <td>0.005692</td>\n",
       "      <td>0.006775</td>\n",
       "      <td>0.005566</td>\n",
       "      <td>0</td>\n",
       "    </tr>\n",
       "    <tr>\n",
       "      <th>5531449</th>\n",
       "      <td>fffff1d38b785cef84adeace64f8f83db3a0c31e8d92ea...</td>\n",
       "      <td>2018-02-06</td>\n",
       "      <td>0.969727</td>\n",
       "      <td>0.442627</td>\n",
       "      <td>0.009857</td>\n",
       "      <td>1.003906</td>\n",
       "      <td>0.005116</td>\n",
       "      <td>0.101807</td>\n",
       "      <td>0.009933</td>\n",
       "      <td>0.008575</td>\n",
       "      <td>...</td>\n",
       "      <td>NaN</td>\n",
       "      <td>NaN</td>\n",
       "      <td>0.005543</td>\n",
       "      <td>0.006565</td>\n",
       "      <td>0.009880</td>\n",
       "      <td>NaN</td>\n",
       "      <td>0.008125</td>\n",
       "      <td>0.001168</td>\n",
       "      <td>0.003983</td>\n",
       "      <td>0</td>\n",
       "    </tr>\n",
       "    <tr>\n",
       "      <th>5531450</th>\n",
       "      <td>fffff1d38b785cef84adeace64f8f83db3a0c31e8d92ea...</td>\n",
       "      <td>2018-03-14</td>\n",
       "      <td>0.981934</td>\n",
       "      <td>0.002474</td>\n",
       "      <td>0.000077</td>\n",
       "      <td>0.992676</td>\n",
       "      <td>0.000809</td>\n",
       "      <td>0.119141</td>\n",
       "      <td>0.003286</td>\n",
       "      <td>0.014091</td>\n",
       "      <td>...</td>\n",
       "      <td>NaN</td>\n",
       "      <td>NaN</td>\n",
       "      <td>0.007317</td>\n",
       "      <td>0.002888</td>\n",
       "      <td>0.006207</td>\n",
       "      <td>NaN</td>\n",
       "      <td>0.005112</td>\n",
       "      <td>0.003183</td>\n",
       "      <td>0.001914</td>\n",
       "      <td>0</td>\n",
       "    </tr>\n",
       "  </tbody>\n",
       "</table>\n",
       "<p>5531451 rows × 191 columns</p>\n",
       "</div>"
      ],
      "text/plain": [
       "                                               customer_ID        S_2  \\\n",
       "0        0000099d6bd597052cdcda90ffabf56573fe9d7c79be5f... 2017-03-09   \n",
       "1        0000099d6bd597052cdcda90ffabf56573fe9d7c79be5f... 2017-04-07   \n",
       "2        0000099d6bd597052cdcda90ffabf56573fe9d7c79be5f... 2017-05-28   \n",
       "3        0000099d6bd597052cdcda90ffabf56573fe9d7c79be5f... 2017-06-13   \n",
       "4        0000099d6bd597052cdcda90ffabf56573fe9d7c79be5f... 2017-07-16   \n",
       "...                                                    ...        ...   \n",
       "5531446  fffff1d38b785cef84adeace64f8f83db3a0c31e8d92ea... 2017-11-05   \n",
       "5531447  fffff1d38b785cef84adeace64f8f83db3a0c31e8d92ea... 2017-12-23   \n",
       "5531448  fffff1d38b785cef84adeace64f8f83db3a0c31e8d92ea... 2018-01-06   \n",
       "5531449  fffff1d38b785cef84adeace64f8f83db3a0c31e8d92ea... 2018-02-06   \n",
       "5531450  fffff1d38b785cef84adeace64f8f83db3a0c31e8d92ea... 2018-03-14   \n",
       "\n",
       "              P_2      D_39       B_1       B_2       R_1       S_3      D_41  \\\n",
       "0        0.938477  0.001734  0.008728  1.006836  0.009224  0.124023  0.008774   \n",
       "1        0.936523  0.005775  0.004925  1.000977  0.006153  0.126709  0.000798   \n",
       "2        0.954102  0.091492  0.021652  1.009766  0.006817  0.123962  0.007599   \n",
       "3        0.960449  0.002455  0.013687  1.002930  0.001372  0.117188  0.000685   \n",
       "4        0.947266  0.002483  0.015190  1.000977  0.007607  0.117310  0.004654   \n",
       "...           ...       ...       ...       ...       ...       ...       ...   \n",
       "5531446  0.979492  0.416016  0.020813  0.828125  0.003487  0.090759  0.005341   \n",
       "5531447  0.984863  0.296631  0.007210  0.812500  0.005905  0.079895  0.002243   \n",
       "5531448  0.982910  0.444092  0.013153  0.815430  0.003456  0.100525  0.002111   \n",
       "5531449  0.969727  0.442627  0.009857  1.003906  0.005116  0.101807  0.009933   \n",
       "5531450  0.981934  0.002474  0.000077  0.992676  0.000809  0.119141  0.003286   \n",
       "\n",
       "              B_3  ...  D_137  D_138     D_139     D_140     D_141  D_142  \\\n",
       "0        0.004707  ...    NaN    NaN  0.002426  0.003706  0.003819    NaN   \n",
       "1        0.002714  ...    NaN    NaN  0.003956  0.003166  0.005032    NaN   \n",
       "2        0.009422  ...    NaN    NaN  0.003269  0.007328  0.000427    NaN   \n",
       "3        0.005531  ...    NaN    NaN  0.006119  0.004517  0.003201    NaN   \n",
       "4        0.009308  ...    NaN    NaN  0.003672  0.004944  0.008888    NaN   \n",
       "...           ...  ...    ...    ...       ...       ...       ...    ...   \n",
       "5531446  0.025146  ...    NaN    NaN  0.006836  0.003679  0.000457    NaN   \n",
       "5531447  0.023697  ...    NaN    NaN  0.003309  0.007095  0.007858    NaN   \n",
       "5531448  0.012344  ...    NaN    NaN  0.009956  0.009995  0.001088    NaN   \n",
       "5531449  0.008575  ...    NaN    NaN  0.005543  0.006565  0.009880    NaN   \n",
       "5531450  0.014091  ...    NaN    NaN  0.007317  0.002888  0.006207    NaN   \n",
       "\n",
       "            D_143     D_144     D_145  target  \n",
       "0        0.000569  0.000610  0.002674       0  \n",
       "1        0.009575  0.005493  0.009216       0  \n",
       "2        0.003429  0.006985  0.002604       0  \n",
       "3        0.008423  0.006527  0.009598       0  \n",
       "4        0.001670  0.008125  0.009827       0  \n",
       "...           ...       ...       ...     ...  \n",
       "5531446  0.000906  0.001497  0.002775       0  \n",
       "5531447  0.002777  0.008224  0.008858       0  \n",
       "5531448  0.005692  0.006775  0.005566       0  \n",
       "5531449  0.008125  0.001168  0.003983       0  \n",
       "5531450  0.005112  0.003183  0.001914       0  \n",
       "\n",
       "[5531451 rows x 191 columns]"
      ]
     },
     "execution_count": 7,
     "metadata": {},
     "output_type": "execute_result"
    }
   ],
   "source": [
    "train_raw"
   ]
  },
  {
   "cell_type": "code",
   "execution_count": 8,
   "id": "02937fa9",
   "metadata": {
    "execution": {
     "iopub.execute_input": "2022-06-24T12:24:59.486918Z",
     "iopub.status.busy": "2022-06-24T12:24:59.486020Z",
     "iopub.status.idle": "2022-06-24T12:25:02.620036Z",
     "shell.execute_reply": "2022-06-24T12:25:02.619074Z"
    },
    "papermill": {
     "duration": 3.14576,
     "end_time": "2022-06-24T12:25:02.622389",
     "exception": false,
     "start_time": "2022-06-24T12:24:59.476629",
     "status": "completed"
    },
    "tags": []
   },
   "outputs": [],
   "source": [
    "train_raw.drop(columns = drop_cols,axis=1, inplace=True)"
   ]
  },
  {
   "cell_type": "code",
   "execution_count": 9,
   "id": "a9eaf9f1",
   "metadata": {
    "execution": {
     "iopub.execute_input": "2022-06-24T12:25:02.640578Z",
     "iopub.status.busy": "2022-06-24T12:25:02.640185Z",
     "iopub.status.idle": "2022-06-24T12:25:02.737655Z",
     "shell.execute_reply": "2022-06-24T12:25:02.736716Z"
    },
    "papermill": {
     "duration": 0.109033,
     "end_time": "2022-06-24T12:25:02.739923",
     "exception": false,
     "start_time": "2022-06-24T12:25:02.630890",
     "status": "completed"
    },
    "tags": []
   },
   "outputs": [],
   "source": [
    "# For categorical columns\n",
    "cols = train_raw.columns\n",
    "num_cols = train_raw._get_numeric_data().columns\n",
    "\n",
    "categorical_columns = list(set(cols) - set(num_cols))\n",
    "filtered_categorical_columns = list(set(train_raw[categorical_columns])-{\"S_2\",\"customer_ID\"})"
   ]
  },
  {
   "cell_type": "code",
   "execution_count": 10,
   "id": "bc1ddd3b",
   "metadata": {
    "execution": {
     "iopub.execute_input": "2022-06-24T12:25:02.758117Z",
     "iopub.status.busy": "2022-06-24T12:25:02.757757Z",
     "iopub.status.idle": "2022-06-24T12:25:03.134248Z",
     "shell.execute_reply": "2022-06-24T12:25:03.133356Z"
    },
    "papermill": {
     "duration": 0.38803,
     "end_time": "2022-06-24T12:25:03.136381",
     "exception": false,
     "start_time": "2022-06-24T12:25:02.748351",
     "status": "completed"
    },
    "tags": []
   },
   "outputs": [
    {
     "data": {
      "text/plain": [
       "D_126    3\n",
       "D_116    2\n",
       "D_63     6\n",
       "D_68     7\n",
       "B_30     3\n",
       "D_64     5\n",
       "D_120    2\n",
       "D_117    7\n",
       "B_38     7\n",
       "D_114    2\n",
       "dtype: int64"
      ]
     },
     "execution_count": 10,
     "metadata": {},
     "output_type": "execute_result"
    }
   ],
   "source": [
    "train_raw[filtered_categorical_columns].nunique()"
   ]
  },
  {
   "cell_type": "code",
   "execution_count": 11,
   "id": "f832e387",
   "metadata": {
    "execution": {
     "iopub.execute_input": "2022-06-24T12:25:03.155488Z",
     "iopub.status.busy": "2022-06-24T12:25:03.155079Z",
     "iopub.status.idle": "2022-06-24T12:25:03.245718Z",
     "shell.execute_reply": "2022-06-24T12:25:03.244743Z"
    },
    "papermill": {
     "duration": 0.102519,
     "end_time": "2022-06-24T12:25:03.247843",
     "exception": false,
     "start_time": "2022-06-24T12:25:03.145324",
     "status": "completed"
    },
    "tags": []
   },
   "outputs": [
    {
     "data": {
      "text/plain": [
       "D_126    2.111851\n",
       "D_116    3.194749\n",
       "D_63     0.000000\n",
       "D_68     3.914036\n",
       "B_30     0.036446\n",
       "D_64     0.000000\n",
       "D_120    3.194749\n",
       "D_117    3.194749\n",
       "B_38     0.036446\n",
       "D_114    3.194749\n",
       "dtype: float64"
      ]
     },
     "execution_count": 11,
     "metadata": {},
     "output_type": "execute_result"
    }
   ],
   "source": [
    "train_raw[filtered_categorical_columns].isna().sum().mul(100).div(len(train_raw))"
   ]
  },
  {
   "cell_type": "code",
   "execution_count": 12,
   "id": "1e161e3f",
   "metadata": {
    "execution": {
     "iopub.execute_input": "2022-06-24T12:25:03.266790Z",
     "iopub.status.busy": "2022-06-24T12:25:03.266431Z",
     "iopub.status.idle": "2022-06-24T12:25:03.642763Z",
     "shell.execute_reply": "2022-06-24T12:25:03.641379Z"
    },
    "papermill": {
     "duration": 0.388969,
     "end_time": "2022-06-24T12:25:03.645756",
     "exception": false,
     "start_time": "2022-06-24T12:25:03.256787",
     "status": "completed"
    },
    "tags": []
   },
   "outputs": [
    {
     "name": "stdout",
     "output_type": "stream",
     "text": [
      "1.0     4262414\n",
      "0.0      891323\n",
      "-1.0     260898\n",
      "Name: D_126, dtype: int64\n",
      "0.0    5348109\n",
      "1.0       6626\n",
      "Name: D_116, dtype: int64\n",
      "CO    4119621\n",
      "CR     930133\n",
      "CL     438390\n",
      "XZ      25786\n",
      "XM      10556\n",
      "XL       6965\n",
      "Name: D_63, dtype: int64\n",
      "6.0    2782455\n",
      "5.0    1201706\n",
      "3.0     484442\n",
      "4.0     477187\n",
      "2.0     220111\n",
      "1.0     133122\n",
      "0.0      15925\n",
      "Name: D_68, dtype: int64\n",
      "0.0    4710663\n",
      "1.0     763955\n",
      "2.0      54817\n",
      "Name: B_30, dtype: int64\n",
      "O     2913244\n",
      "U     1523448\n",
      "R      840112\n",
      "       217442\n",
      "-1      37205\n",
      "Name: D_64, dtype: int64\n",
      "0.0    4729723\n",
      "1.0     625012\n",
      "Name: D_120, dtype: int64\n",
      "-1.0    1456084\n",
      "3.0     1166400\n",
      "4.0     1138666\n",
      "2.0      666808\n",
      "5.0      459290\n",
      "6.0      344520\n",
      "1.0      122967\n",
      "Name: D_117, dtype: int64\n",
      "2.0    1953232\n",
      "3.0    1255315\n",
      "1.0    1160047\n",
      "5.0     444856\n",
      "4.0     294917\n",
      "7.0     259028\n",
      "6.0     162040\n",
      "Name: B_38, dtype: int64\n",
      "1.0    3316478\n",
      "0.0    2038257\n",
      "Name: D_114, dtype: int64\n"
     ]
    }
   ],
   "source": [
    "for i in filtered_categorical_columns:\n",
    "    print(train_raw[i].value_counts())"
   ]
  },
  {
   "cell_type": "code",
   "execution_count": 13,
   "id": "f59f17a5",
   "metadata": {
    "execution": {
     "iopub.execute_input": "2022-06-24T12:25:03.665941Z",
     "iopub.status.busy": "2022-06-24T12:25:03.665203Z",
     "iopub.status.idle": "2022-06-24T12:25:27.941240Z",
     "shell.execute_reply": "2022-06-24T12:25:27.940209Z"
    },
    "papermill": {
     "duration": 24.28854,
     "end_time": "2022-06-24T12:25:27.943642",
     "exception": false,
     "start_time": "2022-06-24T12:25:03.655102",
     "status": "completed"
    },
    "tags": []
   },
   "outputs": [],
   "source": [
    "from sklearn.impute import SimpleImputer\n",
    "imputer=SimpleImputer(strategy=\"most_frequent\")\n",
    "transformed_df = pd.DataFrame(imputer.fit_transform(train_raw[filtered_categorical_columns]),columns = filtered_categorical_columns)"
   ]
  },
  {
   "cell_type": "code",
   "execution_count": 14,
   "id": "b2c66e61",
   "metadata": {
    "execution": {
     "iopub.execute_input": "2022-06-24T12:25:27.963499Z",
     "iopub.status.busy": "2022-06-24T12:25:27.962321Z",
     "iopub.status.idle": "2022-06-24T12:25:29.503959Z",
     "shell.execute_reply": "2022-06-24T12:25:29.502989Z"
    },
    "papermill": {
     "duration": 1.553798,
     "end_time": "2022-06-24T12:25:29.506332",
     "exception": false,
     "start_time": "2022-06-24T12:25:27.952534",
     "status": "completed"
    },
    "tags": []
   },
   "outputs": [],
   "source": [
    "train_raw[filtered_categorical_columns] = transformed_df[filtered_categorical_columns]"
   ]
  },
  {
   "cell_type": "code",
   "execution_count": 15,
   "id": "55f08170",
   "metadata": {
    "execution": {
     "iopub.execute_input": "2022-06-24T12:25:29.525595Z",
     "iopub.status.busy": "2022-06-24T12:25:29.525200Z",
     "iopub.status.idle": "2022-06-24T12:25:57.128871Z",
     "shell.execute_reply": "2022-06-24T12:25:57.127879Z"
    },
    "papermill": {
     "duration": 27.615993,
     "end_time": "2022-06-24T12:25:57.131269",
     "exception": false,
     "start_time": "2022-06-24T12:25:29.515276",
     "status": "completed"
    },
    "tags": []
   },
   "outputs": [],
   "source": [
    "# For numeric columns\n",
    "numeric_columns = train_raw.select_dtypes(np.number).columns\n",
    "train_raw[numeric_columns] = train_raw[numeric_columns].fillna(train_raw[numeric_columns].mean())"
   ]
  },
  {
   "cell_type": "code",
   "execution_count": 16,
   "id": "a043a611",
   "metadata": {
    "execution": {
     "iopub.execute_input": "2022-06-24T12:25:57.150317Z",
     "iopub.status.busy": "2022-06-24T12:25:57.149936Z",
     "iopub.status.idle": "2022-06-24T12:25:57.175181Z",
     "shell.execute_reply": "2022-06-24T12:25:57.174261Z"
    },
    "papermill": {
     "duration": 0.036892,
     "end_time": "2022-06-24T12:25:57.177116",
     "exception": false,
     "start_time": "2022-06-24T12:25:57.140224",
     "status": "completed"
    },
    "tags": []
   },
   "outputs": [
    {
     "data": {
      "text/html": [
       "<div>\n",
       "<style scoped>\n",
       "    .dataframe tbody tr th:only-of-type {\n",
       "        vertical-align: middle;\n",
       "    }\n",
       "\n",
       "    .dataframe tbody tr th {\n",
       "        vertical-align: top;\n",
       "    }\n",
       "\n",
       "    .dataframe thead th {\n",
       "        text-align: right;\n",
       "    }\n",
       "</style>\n",
       "<table border=\"1\" class=\"dataframe\">\n",
       "  <thead>\n",
       "    <tr style=\"text-align: right;\">\n",
       "      <th></th>\n",
       "      <th>customer_ID</th>\n",
       "      <th>S_2</th>\n",
       "      <th>P_2</th>\n",
       "      <th>D_39</th>\n",
       "      <th>B_1</th>\n",
       "      <th>B_2</th>\n",
       "      <th>R_1</th>\n",
       "      <th>S_3</th>\n",
       "      <th>D_41</th>\n",
       "      <th>B_3</th>\n",
       "      <th>...</th>\n",
       "      <th>D_131</th>\n",
       "      <th>D_133</th>\n",
       "      <th>R_28</th>\n",
       "      <th>D_139</th>\n",
       "      <th>D_140</th>\n",
       "      <th>D_141</th>\n",
       "      <th>D_143</th>\n",
       "      <th>D_144</th>\n",
       "      <th>D_145</th>\n",
       "      <th>target</th>\n",
       "    </tr>\n",
       "  </thead>\n",
       "  <tbody>\n",
       "    <tr>\n",
       "      <th>0</th>\n",
       "      <td>0000099d6bd597052cdcda90ffabf56573fe9d7c79be5f...</td>\n",
       "      <td>2017-03-09</td>\n",
       "      <td>0.938477</td>\n",
       "      <td>0.001734</td>\n",
       "      <td>0.008728</td>\n",
       "      <td>1.006836</td>\n",
       "      <td>0.009224</td>\n",
       "      <td>0.124023</td>\n",
       "      <td>0.008774</td>\n",
       "      <td>0.004707</td>\n",
       "      <td>...</td>\n",
       "      <td>0.005970</td>\n",
       "      <td>0.004345</td>\n",
       "      <td>0.001534</td>\n",
       "      <td>0.002426</td>\n",
       "      <td>0.003706</td>\n",
       "      <td>0.003819</td>\n",
       "      <td>0.000569</td>\n",
       "      <td>0.000610</td>\n",
       "      <td>0.002674</td>\n",
       "      <td>0</td>\n",
       "    </tr>\n",
       "    <tr>\n",
       "      <th>1</th>\n",
       "      <td>0000099d6bd597052cdcda90ffabf56573fe9d7c79be5f...</td>\n",
       "      <td>2017-04-07</td>\n",
       "      <td>0.936523</td>\n",
       "      <td>0.005775</td>\n",
       "      <td>0.004925</td>\n",
       "      <td>1.000977</td>\n",
       "      <td>0.006153</td>\n",
       "      <td>0.126709</td>\n",
       "      <td>0.000798</td>\n",
       "      <td>0.002714</td>\n",
       "      <td>...</td>\n",
       "      <td>0.004837</td>\n",
       "      <td>0.007496</td>\n",
       "      <td>0.004932</td>\n",
       "      <td>0.003956</td>\n",
       "      <td>0.003166</td>\n",
       "      <td>0.005032</td>\n",
       "      <td>0.009575</td>\n",
       "      <td>0.005493</td>\n",
       "      <td>0.009216</td>\n",
       "      <td>0</td>\n",
       "    </tr>\n",
       "    <tr>\n",
       "      <th>2</th>\n",
       "      <td>0000099d6bd597052cdcda90ffabf56573fe9d7c79be5f...</td>\n",
       "      <td>2017-05-28</td>\n",
       "      <td>0.954102</td>\n",
       "      <td>0.091492</td>\n",
       "      <td>0.021652</td>\n",
       "      <td>1.009766</td>\n",
       "      <td>0.006817</td>\n",
       "      <td>0.123962</td>\n",
       "      <td>0.007599</td>\n",
       "      <td>0.009422</td>\n",
       "      <td>...</td>\n",
       "      <td>0.005497</td>\n",
       "      <td>0.009224</td>\n",
       "      <td>0.009125</td>\n",
       "      <td>0.003269</td>\n",
       "      <td>0.007328</td>\n",
       "      <td>0.000427</td>\n",
       "      <td>0.003429</td>\n",
       "      <td>0.006985</td>\n",
       "      <td>0.002604</td>\n",
       "      <td>0</td>\n",
       "    </tr>\n",
       "    <tr>\n",
       "      <th>3</th>\n",
       "      <td>0000099d6bd597052cdcda90ffabf56573fe9d7c79be5f...</td>\n",
       "      <td>2017-06-13</td>\n",
       "      <td>0.960449</td>\n",
       "      <td>0.002455</td>\n",
       "      <td>0.013687</td>\n",
       "      <td>1.002930</td>\n",
       "      <td>0.001372</td>\n",
       "      <td>0.117188</td>\n",
       "      <td>0.000685</td>\n",
       "      <td>0.005531</td>\n",
       "      <td>...</td>\n",
       "      <td>0.008263</td>\n",
       "      <td>0.007206</td>\n",
       "      <td>0.002409</td>\n",
       "      <td>0.006119</td>\n",
       "      <td>0.004517</td>\n",
       "      <td>0.003201</td>\n",
       "      <td>0.008423</td>\n",
       "      <td>0.006527</td>\n",
       "      <td>0.009598</td>\n",
       "      <td>0</td>\n",
       "    </tr>\n",
       "    <tr>\n",
       "      <th>4</th>\n",
       "      <td>0000099d6bd597052cdcda90ffabf56573fe9d7c79be5f...</td>\n",
       "      <td>2017-07-16</td>\n",
       "      <td>0.947266</td>\n",
       "      <td>0.002483</td>\n",
       "      <td>0.015190</td>\n",
       "      <td>1.000977</td>\n",
       "      <td>0.007607</td>\n",
       "      <td>0.117310</td>\n",
       "      <td>0.004654</td>\n",
       "      <td>0.009308</td>\n",
       "      <td>...</td>\n",
       "      <td>0.004848</td>\n",
       "      <td>0.006313</td>\n",
       "      <td>0.004463</td>\n",
       "      <td>0.003672</td>\n",
       "      <td>0.004944</td>\n",
       "      <td>0.008888</td>\n",
       "      <td>0.001670</td>\n",
       "      <td>0.008125</td>\n",
       "      <td>0.009827</td>\n",
       "      <td>0</td>\n",
       "    </tr>\n",
       "  </tbody>\n",
       "</table>\n",
       "<p>5 rows × 166 columns</p>\n",
       "</div>"
      ],
      "text/plain": [
       "                                         customer_ID        S_2       P_2  \\\n",
       "0  0000099d6bd597052cdcda90ffabf56573fe9d7c79be5f... 2017-03-09  0.938477   \n",
       "1  0000099d6bd597052cdcda90ffabf56573fe9d7c79be5f... 2017-04-07  0.936523   \n",
       "2  0000099d6bd597052cdcda90ffabf56573fe9d7c79be5f... 2017-05-28  0.954102   \n",
       "3  0000099d6bd597052cdcda90ffabf56573fe9d7c79be5f... 2017-06-13  0.960449   \n",
       "4  0000099d6bd597052cdcda90ffabf56573fe9d7c79be5f... 2017-07-16  0.947266   \n",
       "\n",
       "       D_39       B_1       B_2       R_1       S_3      D_41       B_3  ...  \\\n",
       "0  0.001734  0.008728  1.006836  0.009224  0.124023  0.008774  0.004707  ...   \n",
       "1  0.005775  0.004925  1.000977  0.006153  0.126709  0.000798  0.002714  ...   \n",
       "2  0.091492  0.021652  1.009766  0.006817  0.123962  0.007599  0.009422  ...   \n",
       "3  0.002455  0.013687  1.002930  0.001372  0.117188  0.000685  0.005531  ...   \n",
       "4  0.002483  0.015190  1.000977  0.007607  0.117310  0.004654  0.009308  ...   \n",
       "\n",
       "      D_131     D_133      R_28     D_139     D_140     D_141     D_143  \\\n",
       "0  0.005970  0.004345  0.001534  0.002426  0.003706  0.003819  0.000569   \n",
       "1  0.004837  0.007496  0.004932  0.003956  0.003166  0.005032  0.009575   \n",
       "2  0.005497  0.009224  0.009125  0.003269  0.007328  0.000427  0.003429   \n",
       "3  0.008263  0.007206  0.002409  0.006119  0.004517  0.003201  0.008423   \n",
       "4  0.004848  0.006313  0.004463  0.003672  0.004944  0.008888  0.001670   \n",
       "\n",
       "      D_144     D_145  target  \n",
       "0  0.000610  0.002674       0  \n",
       "1  0.005493  0.009216       0  \n",
       "2  0.006985  0.002604       0  \n",
       "3  0.006527  0.009598       0  \n",
       "4  0.008125  0.009827       0  \n",
       "\n",
       "[5 rows x 166 columns]"
      ]
     },
     "execution_count": 16,
     "metadata": {},
     "output_type": "execute_result"
    }
   ],
   "source": [
    "train_raw.head()"
   ]
  },
  {
   "cell_type": "code",
   "execution_count": 17,
   "id": "09f481b1",
   "metadata": {
    "execution": {
     "iopub.execute_input": "2022-06-24T12:25:57.200714Z",
     "iopub.status.busy": "2022-06-24T12:25:57.200301Z",
     "iopub.status.idle": "2022-06-24T12:25:58.779879Z",
     "shell.execute_reply": "2022-06-24T12:25:58.778855Z"
    },
    "papermill": {
     "duration": 1.594992,
     "end_time": "2022-06-24T12:25:58.782122",
     "exception": false,
     "start_time": "2022-06-24T12:25:57.187130",
     "status": "completed"
    },
    "tags": []
   },
   "outputs": [],
   "source": [
    "# Handling date column\n",
    "\n",
    "train_raw[\"S_2_day\"] = train_raw[\"S_2\"].dt.day\n",
    "train_raw[\"S_2_month\"] = train_raw[\"S_2\"].dt.month\n",
    "train_raw[\"S_2_year\"] = train_raw[\"S_2\"].dt.year\n"
   ]
  },
  {
   "cell_type": "code",
   "execution_count": 18,
   "id": "77541e8b",
   "metadata": {
    "execution": {
     "iopub.execute_input": "2022-06-24T12:25:58.801858Z",
     "iopub.status.busy": "2022-06-24T12:25:58.801219Z",
     "iopub.status.idle": "2022-06-24T12:26:05.709160Z",
     "shell.execute_reply": "2022-06-24T12:26:05.708023Z"
    },
    "papermill": {
     "duration": 6.920348,
     "end_time": "2022-06-24T12:26:05.711440",
     "exception": false,
     "start_time": "2022-06-24T12:25:58.791092",
     "status": "completed"
    },
    "tags": []
   },
   "outputs": [],
   "source": [
    "# considering only one data point per customer (latest one) as time series is not being used\n",
    "train_raw = train_raw.groupby(['customer_ID']).nth(-1).reset_index(drop=True)"
   ]
  },
  {
   "cell_type": "code",
   "execution_count": 19,
   "id": "da1971a6",
   "metadata": {
    "execution": {
     "iopub.execute_input": "2022-06-24T12:26:05.731294Z",
     "iopub.status.busy": "2022-06-24T12:26:05.730905Z",
     "iopub.status.idle": "2022-06-24T12:26:06.136450Z",
     "shell.execute_reply": "2022-06-24T12:26:06.135467Z"
    },
    "papermill": {
     "duration": 0.418121,
     "end_time": "2022-06-24T12:26:06.138981",
     "exception": false,
     "start_time": "2022-06-24T12:26:05.720860",
     "status": "completed"
    },
    "tags": []
   },
   "outputs": [],
   "source": [
    "# drop S_2\n",
    "train_raw.drop(columns=[\"S_2\"], axis=1, inplace=True)"
   ]
  },
  {
   "cell_type": "code",
   "execution_count": 20,
   "id": "5e4e0961",
   "metadata": {
    "execution": {
     "iopub.execute_input": "2022-06-24T12:26:06.159340Z",
     "iopub.status.busy": "2022-06-24T12:26:06.158638Z",
     "iopub.status.idle": "2022-06-24T12:26:07.279788Z",
     "shell.execute_reply": "2022-06-24T12:26:07.279001Z"
    },
    "papermill": {
     "duration": 1.133595,
     "end_time": "2022-06-24T12:26:07.282173",
     "exception": false,
     "start_time": "2022-06-24T12:26:06.148578",
     "status": "completed"
    },
    "tags": []
   },
   "outputs": [],
   "source": [
    "# converting pandas \"categorical\" dtype to numeric\n",
    "cols = [\"D_68\", \"B_30\", \"B_38\", \"D_114\", \"D_116\", \"D_117\", \"D_120\", \"D_126\"]\n",
    "train_raw[cols] = train_raw[cols].apply(pd.to_numeric, errors='coerce')"
   ]
  },
  {
   "cell_type": "markdown",
   "id": "da2ec70c",
   "metadata": {
    "papermill": {
     "duration": 0.008891,
     "end_time": "2022-06-24T12:26:07.300697",
     "exception": false,
     "start_time": "2022-06-24T12:26:07.291806",
     "status": "completed"
    },
    "tags": []
   },
   "source": [
    "## Modeling"
   ]
  },
  {
   "cell_type": "code",
   "execution_count": 21,
   "id": "743d4ceb",
   "metadata": {
    "execution": {
     "iopub.execute_input": "2022-06-24T12:26:07.321162Z",
     "iopub.status.busy": "2022-06-24T12:26:07.320138Z",
     "iopub.status.idle": "2022-06-24T12:26:07.450561Z",
     "shell.execute_reply": "2022-06-24T12:26:07.449574Z"
    },
    "papermill": {
     "duration": 0.142862,
     "end_time": "2022-06-24T12:26:07.452809",
     "exception": false,
     "start_time": "2022-06-24T12:26:07.309947",
     "status": "completed"
    },
    "tags": []
   },
   "outputs": [],
   "source": [
    "from sklearn.model_selection import train_test_split\n",
    "from sklearn import metrics\n",
    "from xgboost import XGBClassifier\n",
    "import xgboost as xgb\n",
    "from datetime import datetime, timedelta"
   ]
  },
  {
   "cell_type": "code",
   "execution_count": 22,
   "id": "ca9fea46",
   "metadata": {
    "execution": {
     "iopub.execute_input": "2022-06-24T12:26:07.472683Z",
     "iopub.status.busy": "2022-06-24T12:26:07.472132Z",
     "iopub.status.idle": "2022-06-24T12:26:07.484318Z",
     "shell.execute_reply": "2022-06-24T12:26:07.483596Z"
    },
    "papermill": {
     "duration": 0.024547,
     "end_time": "2022-06-24T12:26:07.486481",
     "exception": false,
     "start_time": "2022-06-24T12:26:07.461934",
     "status": "completed"
    },
    "tags": []
   },
   "outputs": [],
   "source": [
    "# https://www.kaggle.com/code/inversion/amex-competition-metric-python\n",
    "\n",
    "def amex_metric_official(y_true: pd.DataFrame, y_pred: pd.DataFrame) -> float:\n",
    "\n",
    "    def top_four_percent_captured(y_true: pd.DataFrame, y_pred: pd.DataFrame) -> float:\n",
    "        df = (pd.concat([y_true, y_pred], axis='columns')\n",
    "              .sort_values('prediction', ascending=False))\n",
    "        df['weight'] = df['target'].apply(lambda x: 20 if x==0 else 1)\n",
    "        four_pct_cutoff = int(0.04 * df['weight'].sum())\n",
    "        df['weight_cumsum'] = df['weight'].cumsum()\n",
    "        df_cutoff = df.loc[df['weight_cumsum'] <= four_pct_cutoff]\n",
    "        return (df_cutoff['target'] == 1).sum() / (df['target'] == 1).sum()\n",
    "\n",
    "    def weighted_gini(y_true: pd.DataFrame, y_pred: pd.DataFrame) -> float:\n",
    "        df = (pd.concat([y_true, y_pred], axis='columns')\n",
    "              .sort_values('prediction', ascending=False))\n",
    "        df['weight'] = df['target'].apply(lambda x: 20 if x==0 else 1)\n",
    "        df['random'] = (df['weight'] / df['weight'].sum()).cumsum()\n",
    "        total_pos = (df['target'] * df['weight']).sum()\n",
    "        df['cum_pos_found'] = (df['target'] * df['weight']).cumsum()\n",
    "        df['lorentz'] = df['cum_pos_found'] / total_pos\n",
    "        df['gini'] = (df['lorentz'] - df['random']) * df['weight']\n",
    "        return df['gini'].sum()\n",
    "\n",
    "    def normalized_weighted_gini(y_true: pd.DataFrame, y_pred: pd.DataFrame) -> float:\n",
    "        y_true_pred = y_true.rename(columns={'target': 'prediction'})\n",
    "        return weighted_gini(y_true, y_pred) / weighted_gini(y_true, y_true_pred)\n",
    "\n",
    "    g = normalized_weighted_gini(y_true, y_pred)\n",
    "    d = top_four_percent_captured(y_true, y_pred)\n",
    "\n",
    "    return 0.5 * (g + d)"
   ]
  },
  {
   "cell_type": "code",
   "execution_count": 23,
   "id": "e454bf40",
   "metadata": {
    "execution": {
     "iopub.execute_input": "2022-06-24T12:26:07.506553Z",
     "iopub.status.busy": "2022-06-24T12:26:07.506126Z",
     "iopub.status.idle": "2022-06-24T12:26:07.791779Z",
     "shell.execute_reply": "2022-06-24T12:26:07.790700Z"
    },
    "papermill": {
     "duration": 0.298406,
     "end_time": "2022-06-24T12:26:07.794016",
     "exception": false,
     "start_time": "2022-06-24T12:26:07.495610",
     "status": "completed"
    },
    "tags": []
   },
   "outputs": [],
   "source": [
    "X = train_raw.drop(columns=[\"target\"],axis=1)\n",
    "y = train_raw[\"target\"]"
   ]
  },
  {
   "cell_type": "code",
   "execution_count": 24,
   "id": "bf4fdecc",
   "metadata": {
    "execution": {
     "iopub.execute_input": "2022-06-24T12:26:07.813940Z",
     "iopub.status.busy": "2022-06-24T12:26:07.813550Z",
     "iopub.status.idle": "2022-06-24T12:26:08.832454Z",
     "shell.execute_reply": "2022-06-24T12:26:08.831456Z"
    },
    "papermill": {
     "duration": 1.031893,
     "end_time": "2022-06-24T12:26:08.834885",
     "exception": false,
     "start_time": "2022-06-24T12:26:07.802992",
     "status": "completed"
    },
    "tags": []
   },
   "outputs": [],
   "source": [
    "X_train, X_test, y_train, y_test = train_test_split(X, y, test_size = 0.33,random_state=100)"
   ]
  },
  {
   "cell_type": "code",
   "execution_count": 25,
   "id": "42b8a28e",
   "metadata": {
    "execution": {
     "iopub.execute_input": "2022-06-24T12:26:08.854710Z",
     "iopub.status.busy": "2022-06-24T12:26:08.853748Z",
     "iopub.status.idle": "2022-06-24T12:26:09.061183Z",
     "shell.execute_reply": "2022-06-24T12:26:09.059800Z"
    },
    "papermill": {
     "duration": 0.219697,
     "end_time": "2022-06-24T12:26:09.063569",
     "exception": false,
     "start_time": "2022-06-24T12:26:08.843872",
     "status": "completed"
    },
    "tags": []
   },
   "outputs": [],
   "source": [
    "# label encoding\n",
    "from sklearn.preprocessing import OrdinalEncoder\n",
    "\n",
    "categorical_columns = [\"D_63\",\"D_64\"]\n",
    "\n",
    "oe = OrdinalEncoder(handle_unknown=\"use_encoded_value\", unknown_value=-999)\n",
    "oe.fit(X_train[categorical_columns])\n",
    "\n",
    "X_train_enc = oe.transform(X_train[categorical_columns])\n",
    "X_test_enc = oe.transform(X_test[categorical_columns])\n",
    "\n",
    "X_train[categorical_columns] = X_train_enc\n",
    "X_test[categorical_columns] = X_test_enc"
   ]
  },
  {
   "cell_type": "code",
   "execution_count": 26,
   "id": "df9b98e4",
   "metadata": {
    "execution": {
     "iopub.execute_input": "2022-06-24T12:26:09.084159Z",
     "iopub.status.busy": "2022-06-24T12:26:09.083766Z",
     "iopub.status.idle": "2022-06-24T12:26:09.087613Z",
     "shell.execute_reply": "2022-06-24T12:26:09.086640Z"
    },
    "papermill": {
     "duration": 0.016581,
     "end_time": "2022-06-24T12:26:09.089432",
     "exception": false,
     "start_time": "2022-06-24T12:26:09.072851",
     "status": "completed"
    },
    "tags": []
   },
   "outputs": [],
   "source": [
    "# X_train.to_csv(\"x_train.csv\", index=False)\n",
    "# X_test.to_csv(\"x_test.csv\", index=False)\n",
    "# y_train.to_csv(\"y_train.csv\", index=False)\n",
    "# y_test.to_csv(\"y_test.csv\", index=False)"
   ]
  },
  {
   "cell_type": "code",
   "execution_count": 27,
   "id": "7e613588",
   "metadata": {
    "execution": {
     "iopub.execute_input": "2022-06-24T12:26:09.110215Z",
     "iopub.status.busy": "2022-06-24T12:26:09.109522Z",
     "iopub.status.idle": "2022-06-24T12:35:27.589947Z",
     "shell.execute_reply": "2022-06-24T12:35:27.589217Z"
    },
    "papermill": {
     "duration": 558.502381,
     "end_time": "2022-06-24T12:35:27.600894",
     "exception": false,
     "start_time": "2022-06-24T12:26:09.098513",
     "status": "completed"
    },
    "tags": []
   },
   "outputs": [
    {
     "data": {
      "text/plain": [
       "XGBClassifier(base_score=0.5, booster='gbtree', callbacks=None,\n",
       "              colsample_bylevel=1, colsample_bynode=1, colsample_bytree=1,\n",
       "              early_stopping_rounds=None, enable_categorical=False, eta=0.2,\n",
       "              eval_metric='aucpr', gamma=0, gpu_id=-1, grow_policy='depthwise',\n",
       "              importance_type=None, interaction_constraints='',\n",
       "              learning_rate=0.02, max_bin=256, max_cat_to_onehot=4,\n",
       "              max_delta_step=0, max_depth=6, max_leaves=0, min_child_weight=1,\n",
       "              missing=nan, monotone_constraints='()', n_estimators=200,\n",
       "              n_jobs=0, num_parallel_tree=1, predictor='auto', random_state=12,\n",
       "              reg_alpha=0, ...)"
      ]
     },
     "execution_count": 27,
     "metadata": {},
     "output_type": "execute_result"
    }
   ],
   "source": [
    "xgb_classifier = XGBClassifier(objective='binary:logistic', \n",
    "                      n_estimators=200,\n",
    "                      eta=0.2,\n",
    "                      seed=12,\n",
    "                      learning_rate=0.02,\n",
    "                      use_label_encoder=False,\n",
    "                      eval_metric='aucpr',                      \n",
    "#                       early_stopping_rounds=10,tree_method='gpu_hist',enable_categorical=True\n",
    "                            )\n",
    "xgb_classifier.fit(X_train, y_train)"
   ]
  },
  {
   "cell_type": "code",
   "execution_count": 28,
   "id": "32f7cff3",
   "metadata": {
    "execution": {
     "iopub.execute_input": "2022-06-24T12:35:27.621134Z",
     "iopub.status.busy": "2022-06-24T12:35:27.620214Z",
     "iopub.status.idle": "2022-06-24T12:35:28.307207Z",
     "shell.execute_reply": "2022-06-24T12:35:28.306474Z"
    },
    "papermill": {
     "duration": 0.699197,
     "end_time": "2022-06-24T12:35:28.309197",
     "exception": false,
     "start_time": "2022-06-24T12:35:27.610000",
     "status": "completed"
    },
    "tags": []
   },
   "outputs": [],
   "source": [
    "y_pred = xgb_classifier.predict(X_test)"
   ]
  },
  {
   "cell_type": "code",
   "execution_count": 29,
   "id": "93ac60ee",
   "metadata": {
    "execution": {
     "iopub.execute_input": "2022-06-24T12:35:28.329458Z",
     "iopub.status.busy": "2022-06-24T12:35:28.328451Z",
     "iopub.status.idle": "2022-06-24T12:35:28.982389Z",
     "shell.execute_reply": "2022-06-24T12:35:28.981619Z"
    },
    "papermill": {
     "duration": 0.666324,
     "end_time": "2022-06-24T12:35:28.984673",
     "exception": false,
     "start_time": "2022-06-24T12:35:28.318349",
     "status": "completed"
    },
    "tags": []
   },
   "outputs": [],
   "source": [
    "y_pred_prob = xgb_classifier.predict_proba(X_test)[:,1]\n"
   ]
  },
  {
   "cell_type": "code",
   "execution_count": 30,
   "id": "5d1a1aed",
   "metadata": {
    "execution": {
     "iopub.execute_input": "2022-06-24T12:35:29.005011Z",
     "iopub.status.busy": "2022-06-24T12:35:29.004490Z",
     "iopub.status.idle": "2022-06-24T12:35:29.013100Z",
     "shell.execute_reply": "2022-06-24T12:35:29.012439Z"
    },
    "papermill": {
     "duration": 0.021291,
     "end_time": "2022-06-24T12:35:29.015203",
     "exception": false,
     "start_time": "2022-06-24T12:35:28.993912",
     "status": "completed"
    },
    "tags": []
   },
   "outputs": [],
   "source": [
    "y_test = pd.DataFrame(y_test, columns=[\"target\"])\n",
    "y_pred = pd.DataFrame(y_pred, columns=[\"prediction\"])\n",
    "y_pred_prob = pd.DataFrame(y_pred_prob, columns=[\"prediction\"])"
   ]
  },
  {
   "cell_type": "code",
   "execution_count": 31,
   "id": "628cd71a",
   "metadata": {
    "execution": {
     "iopub.execute_input": "2022-06-24T12:35:29.035532Z",
     "iopub.status.busy": "2022-06-24T12:35:29.034929Z",
     "iopub.status.idle": "2022-06-24T12:35:29.536980Z",
     "shell.execute_reply": "2022-06-24T12:35:29.536023Z"
    },
    "papermill": {
     "duration": 0.514569,
     "end_time": "2022-06-24T12:35:29.539111",
     "exception": false,
     "start_time": "2022-06-24T12:35:29.024542",
     "status": "completed"
    },
    "tags": []
   },
   "outputs": [
    {
     "data": {
      "text/plain": [
       "0.007136442433944101"
      ]
     },
     "execution_count": 31,
     "metadata": {},
     "output_type": "execute_result"
    }
   ],
   "source": [
    "# # computing metric score\n",
    "amex_metric_official(y_test, y_pred_prob)"
   ]
  },
  {
   "cell_type": "code",
   "execution_count": 32,
   "id": "be662c7f",
   "metadata": {
    "execution": {
     "iopub.execute_input": "2022-06-24T12:35:29.560232Z",
     "iopub.status.busy": "2022-06-24T12:35:29.559823Z",
     "iopub.status.idle": "2022-06-24T12:35:29.581646Z",
     "shell.execute_reply": "2022-06-24T12:35:29.580575Z"
    },
    "papermill": {
     "duration": 0.034515,
     "end_time": "2022-06-24T12:35:29.583736",
     "exception": false,
     "start_time": "2022-06-24T12:35:29.549221",
     "status": "completed"
    },
    "tags": []
   },
   "outputs": [
    {
     "name": "stdout",
     "output_type": "stream",
     "text": [
      "accuracy:  89.35%\n"
     ]
    }
   ],
   "source": [
    "# Compute accuracy\n",
    "accuracy = metrics.accuracy_score(y_test[\"target\"], y_pred[\"prediction\"])\n",
    "print(f'accuracy: {accuracy: .2%}')"
   ]
  },
  {
   "cell_type": "code",
   "execution_count": 33,
   "id": "86ebcfac",
   "metadata": {
    "execution": {
     "iopub.execute_input": "2022-06-24T12:35:29.605524Z",
     "iopub.status.busy": "2022-06-24T12:35:29.604830Z",
     "iopub.status.idle": "2022-06-24T12:35:29.625029Z",
     "shell.execute_reply": "2022-06-24T12:35:29.623928Z"
    },
    "papermill": {
     "duration": 0.033895,
     "end_time": "2022-06-24T12:35:29.627262",
     "exception": false,
     "start_time": "2022-06-24T12:35:29.593367",
     "status": "completed"
    },
    "tags": []
   },
   "outputs": [
    {
     "data": {
      "text/plain": [
       "['xgb_classifier_v1.h5']"
      ]
     },
     "execution_count": 33,
     "metadata": {},
     "output_type": "execute_result"
    }
   ],
   "source": [
    "import joblib\n",
    "joblib.dump(xgb_classifier, \"xgb_classifier_v1.h5\")"
   ]
  },
  {
   "cell_type": "code",
   "execution_count": 34,
   "id": "e9296ac8",
   "metadata": {
    "execution": {
     "iopub.execute_input": "2022-06-24T12:35:29.648049Z",
     "iopub.status.busy": "2022-06-24T12:35:29.646979Z",
     "iopub.status.idle": "2022-06-24T12:35:29.654124Z",
     "shell.execute_reply": "2022-06-24T12:35:29.653435Z"
    },
    "papermill": {
     "duration": 0.019269,
     "end_time": "2022-06-24T12:35:29.655976",
     "exception": false,
     "start_time": "2022-06-24T12:35:29.636707",
     "status": "completed"
    },
    "tags": []
   },
   "outputs": [
    {
     "data": {
      "text/plain": [
       "['oe.h5']"
      ]
     },
     "execution_count": 34,
     "metadata": {},
     "output_type": "execute_result"
    }
   ],
   "source": [
    "import joblib\n",
    "joblib.dump(oe, \"oe.h5\")"
   ]
  },
  {
   "cell_type": "code",
   "execution_count": 35,
   "id": "a326c68c",
   "metadata": {
    "execution": {
     "iopub.execute_input": "2022-06-24T12:35:29.676569Z",
     "iopub.status.busy": "2022-06-24T12:35:29.675892Z",
     "iopub.status.idle": "2022-06-24T12:35:29.680091Z",
     "shell.execute_reply": "2022-06-24T12:35:29.679359Z"
    },
    "papermill": {
     "duration": 0.01652,
     "end_time": "2022-06-24T12:35:29.681878",
     "exception": false,
     "start_time": "2022-06-24T12:35:29.665358",
     "status": "completed"
    },
    "tags": []
   },
   "outputs": [],
   "source": [
    "# # load the model\n",
    "# import joblib\n",
    "# xgb_classifier = joblib.load(\"../input/01-starter-xgboost-implementation/xgb_classifier_v1.h5\")"
   ]
  },
  {
   "cell_type": "code",
   "execution_count": 36,
   "id": "5a52ae16",
   "metadata": {
    "execution": {
     "iopub.execute_input": "2022-06-24T12:35:29.703117Z",
     "iopub.status.busy": "2022-06-24T12:35:29.702445Z",
     "iopub.status.idle": "2022-06-24T12:35:29.706476Z",
     "shell.execute_reply": "2022-06-24T12:35:29.705789Z"
    },
    "papermill": {
     "duration": 0.016988,
     "end_time": "2022-06-24T12:35:29.708267",
     "exception": false,
     "start_time": "2022-06-24T12:35:29.691279",
     "status": "completed"
    },
    "tags": []
   },
   "outputs": [],
   "source": [
    "# submission in 02. xgboost implementation"
   ]
  },
  {
   "cell_type": "markdown",
   "id": "016066c3",
   "metadata": {
    "papermill": {
     "duration": 0.009631,
     "end_time": "2022-06-24T12:35:29.727289",
     "exception": false,
     "start_time": "2022-06-24T12:35:29.717658",
     "status": "completed"
    },
    "tags": []
   },
   "source": [
    "\n",
    "## DO UPVOTE !"
   ]
  },
  {
   "cell_type": "code",
   "execution_count": null,
   "id": "178ce5eb",
   "metadata": {
    "papermill": {
     "duration": 0.011849,
     "end_time": "2022-06-24T12:35:29.748944",
     "exception": false,
     "start_time": "2022-06-24T12:35:29.737095",
     "status": "completed"
    },
    "tags": []
   },
   "outputs": [],
   "source": []
  }
 ],
 "metadata": {
  "kernelspec": {
   "display_name": "Python 3",
   "language": "python",
   "name": "python3"
  },
  "language_info": {
   "codemirror_mode": {
    "name": "ipython",
    "version": 3
   },
   "file_extension": ".py",
   "mimetype": "text/x-python",
   "name": "python",
   "nbconvert_exporter": "python",
   "pygments_lexer": "ipython3",
   "version": "3.7.12"
  },
  "papermill": {
   "default_parameters": {},
   "duration": 666.171362,
   "end_time": "2022-06-24T12:35:31.485259",
   "environment_variables": {},
   "exception": null,
   "input_path": "__notebook__.ipynb",
   "output_path": "__notebook__.ipynb",
   "parameters": {},
   "start_time": "2022-06-24T12:24:25.313897",
   "version": "2.3.4"
  }
 },
 "nbformat": 4,
 "nbformat_minor": 5
}
