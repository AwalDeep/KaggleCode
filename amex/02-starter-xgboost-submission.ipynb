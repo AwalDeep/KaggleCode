{
 "cells": [
  {
   "cell_type": "code",
   "execution_count": 1,
   "id": "47d26952",
   "metadata": {
    "_cell_guid": "b1076dfc-b9ad-4769-8c92-a6c4dae69d19",
    "_uuid": "8f2839f25d086af736a60e9eeb907d3b93b6e0e5",
    "execution": {
     "iopub.execute_input": "2022-06-24T07:42:28.321829Z",
     "iopub.status.busy": "2022-06-24T07:42:28.321322Z",
     "iopub.status.idle": "2022-06-24T07:42:28.334148Z",
     "shell.execute_reply": "2022-06-24T07:42:28.333624Z"
    },
    "papermill": {
     "duration": 0.025687,
     "end_time": "2022-06-24T07:42:28.335927",
     "exception": false,
     "start_time": "2022-06-24T07:42:28.310240",
     "status": "completed"
    },
    "tags": []
   },
   "outputs": [],
   "source": [
    "# Import libraries\n",
    "import os\n",
    "import warnings\n",
    "\n",
    "import numpy as np\n",
    "import pandas as pd\n",
    "\n",
    "import gc  # Garbage collector\n",
    "\n",
    "\n",
    "warnings.filterwarnings('ignore')"
   ]
  },
  {
   "cell_type": "code",
   "execution_count": 2,
   "id": "1e9c6d98",
   "metadata": {
    "execution": {
     "iopub.execute_input": "2022-06-24T07:42:28.350107Z",
     "iopub.status.busy": "2022-06-24T07:42:28.349382Z",
     "iopub.status.idle": "2022-06-24T07:42:29.434124Z",
     "shell.execute_reply": "2022-06-24T07:42:29.433284Z"
    },
    "papermill": {
     "duration": 1.093646,
     "end_time": "2022-06-24T07:42:29.436014",
     "exception": false,
     "start_time": "2022-06-24T07:42:28.342368",
     "status": "completed"
    },
    "tags": []
   },
   "outputs": [],
   "source": [
    "from sklearn.model_selection import train_test_split\n",
    "from sklearn import metrics\n",
    "\n",
    "from xgboost import XGBClassifier"
   ]
  },
  {
   "cell_type": "code",
   "execution_count": 3,
   "id": "2f81d58c",
   "metadata": {
    "execution": {
     "iopub.execute_input": "2022-06-24T07:42:29.446255Z",
     "iopub.status.busy": "2022-06-24T07:42:29.445722Z",
     "iopub.status.idle": "2022-06-24T07:42:29.493903Z",
     "shell.execute_reply": "2022-06-24T07:42:29.493246Z"
    },
    "papermill": {
     "duration": 0.055825,
     "end_time": "2022-06-24T07:42:29.496198",
     "exception": false,
     "start_time": "2022-06-24T07:42:29.440373",
     "status": "completed"
    },
    "tags": []
   },
   "outputs": [],
   "source": [
    "# load the model\n",
    "import joblib\n",
    "xgb_classifier = joblib.load(\"../input/01-starter-xgboost-implementation/xgb_classifier_v1.h5\")"
   ]
  },
  {
   "cell_type": "code",
   "execution_count": 4,
   "id": "76a43cc9",
   "metadata": {
    "execution": {
     "iopub.execute_input": "2022-06-24T07:42:29.510392Z",
     "iopub.status.busy": "2022-06-24T07:42:29.510134Z",
     "iopub.status.idle": "2022-06-24T07:42:29.519067Z",
     "shell.execute_reply": "2022-06-24T07:42:29.518246Z"
    },
    "papermill": {
     "duration": 0.017283,
     "end_time": "2022-06-24T07:42:29.520502",
     "exception": false,
     "start_time": "2022-06-24T07:42:29.503219",
     "status": "completed"
    },
    "tags": []
   },
   "outputs": [],
   "source": [
    "oe = joblib.load(\"../input/01-starter-xgboost-implementation/oe.h5\")"
   ]
  },
  {
   "cell_type": "code",
   "execution_count": 5,
   "id": "fc6228eb",
   "metadata": {
    "execution": {
     "iopub.execute_input": "2022-06-24T07:42:29.530197Z",
     "iopub.status.busy": "2022-06-24T07:42:29.529599Z",
     "iopub.status.idle": "2022-06-24T07:43:06.291770Z",
     "shell.execute_reply": "2022-06-24T07:43:06.290083Z"
    },
    "papermill": {
     "duration": 36.771795,
     "end_time": "2022-06-24T07:43:06.296527",
     "exception": false,
     "start_time": "2022-06-24T07:42:29.524732",
     "status": "completed"
    },
    "tags": []
   },
   "outputs": [],
   "source": [
    "test = pd.read_feather('../input/amexfeather/test_data.ftr')#.iloc[6000000:]"
   ]
  },
  {
   "cell_type": "code",
   "execution_count": 6,
   "id": "8c84bef7",
   "metadata": {
    "execution": {
     "iopub.execute_input": "2022-06-24T07:43:06.318110Z",
     "iopub.status.busy": "2022-06-24T07:43:06.317651Z",
     "iopub.status.idle": "2022-06-24T07:43:10.131187Z",
     "shell.execute_reply": "2022-06-24T07:43:10.130127Z"
    },
    "papermill": {
     "duration": 3.826544,
     "end_time": "2022-06-24T07:43:10.133145",
     "exception": false,
     "start_time": "2022-06-24T07:43:06.306601",
     "status": "completed"
    },
    "tags": []
   },
   "outputs": [],
   "source": [
    "# Handling date column\n",
    "\n",
    "test[\"S_2_day\"] = test[\"S_2\"].dt.day\n",
    "test[\"S_2_month\"] = test[\"S_2\"].dt.month\n",
    "test[\"S_2_year\"] = test[\"S_2\"].dt.year"
   ]
  },
  {
   "cell_type": "code",
   "execution_count": null,
   "id": "997f3e0c",
   "metadata": {
    "papermill": {
     "duration": 0.003999,
     "end_time": "2022-06-24T07:43:10.141686",
     "exception": false,
     "start_time": "2022-06-24T07:43:10.137687",
     "status": "completed"
    },
    "tags": []
   },
   "outputs": [],
   "source": []
  },
  {
   "cell_type": "code",
   "execution_count": 7,
   "id": "4d59670c",
   "metadata": {
    "execution": {
     "iopub.execute_input": "2022-06-24T07:43:10.152240Z",
     "iopub.status.busy": "2022-06-24T07:43:10.151844Z",
     "iopub.status.idle": "2022-06-24T07:43:31.465157Z",
     "shell.execute_reply": "2022-06-24T07:43:31.463866Z"
    },
    "papermill": {
     "duration": 21.32151,
     "end_time": "2022-06-24T07:43:31.467543",
     "exception": false,
     "start_time": "2022-06-24T07:43:10.146033",
     "status": "completed"
    },
    "tags": []
   },
   "outputs": [],
   "source": [
    "drop_cols = ['D_87', 'D_88', 'D_108', 'D_111', 'D_110', 'B_39', 'D_73', 'B_42', 'D_136',\n",
    " 'D_138', 'D_137', 'D_135', 'D_134', 'R_9', 'B_29', 'D_106', 'D_132', 'D_49',\n",
    " 'R_26', 'D_76', 'D_66', 'D_42', 'D_142', 'D_53', 'D_82','S_2']\n",
    "\n",
    "test.drop(columns = drop_cols,axis=1, inplace=True)\n",
    "\n",
    "# converting pandas \"categorical\" dtype to numeric\n",
    "cols = [\"D_68\", \"B_30\", \"B_38\", \"D_114\", \"D_116\", \"D_117\", \"D_120\", \"D_126\"]\n",
    "test[cols] = test[cols].apply(pd.to_numeric, errors='coerce')"
   ]
  },
  {
   "cell_type": "code",
   "execution_count": 8,
   "id": "1e0aea01",
   "metadata": {
    "execution": {
     "iopub.execute_input": "2022-06-24T07:43:31.478646Z",
     "iopub.status.busy": "2022-06-24T07:43:31.478191Z",
     "iopub.status.idle": "2022-06-24T07:43:41.631129Z",
     "shell.execute_reply": "2022-06-24T07:43:41.630224Z"
    },
    "papermill": {
     "duration": 10.161005,
     "end_time": "2022-06-24T07:43:41.633378",
     "exception": false,
     "start_time": "2022-06-24T07:43:31.472373",
     "status": "completed"
    },
    "tags": []
   },
   "outputs": [],
   "source": [
    "categorical_columns = [\"D_63\",\"D_64\"]\n",
    "test_enc = oe.transform(test[categorical_columns])\n",
    "test[categorical_columns] = test_enc"
   ]
  },
  {
   "cell_type": "code",
   "execution_count": 9,
   "id": "55340527",
   "metadata": {
    "execution": {
     "iopub.execute_input": "2022-06-24T07:43:41.643973Z",
     "iopub.status.busy": "2022-06-24T07:43:41.643604Z",
     "iopub.status.idle": "2022-06-24T07:43:41.881231Z",
     "shell.execute_reply": "2022-06-24T07:43:41.879918Z"
    },
    "papermill": {
     "duration": 0.245196,
     "end_time": "2022-06-24T07:43:41.883213",
     "exception": false,
     "start_time": "2022-06-24T07:43:41.638017",
     "status": "completed"
    },
    "tags": []
   },
   "outputs": [],
   "source": [
    "_ = gc.collect()"
   ]
  },
  {
   "cell_type": "code",
   "execution_count": 10,
   "id": "36114453",
   "metadata": {
    "execution": {
     "iopub.execute_input": "2022-06-24T07:43:41.893830Z",
     "iopub.status.busy": "2022-06-24T07:43:41.893455Z",
     "iopub.status.idle": "2022-06-24T07:43:51.948257Z",
     "shell.execute_reply": "2022-06-24T07:43:51.947487Z"
    },
    "papermill": {
     "duration": 10.063029,
     "end_time": "2022-06-24T07:43:51.950726",
     "exception": false,
     "start_time": "2022-06-24T07:43:41.887697",
     "status": "completed"
    },
    "tags": []
   },
   "outputs": [],
   "source": [
    "# considering only one data point per customer (latest one) as time series is not being used\n",
    "test = test.groupby(['customer_ID']).nth(-1).reset_index(drop=True)"
   ]
  },
  {
   "cell_type": "code",
   "execution_count": 11,
   "id": "e05c458d",
   "metadata": {
    "execution": {
     "iopub.execute_input": "2022-06-24T07:43:51.966229Z",
     "iopub.status.busy": "2022-06-24T07:43:51.965861Z",
     "iopub.status.idle": "2022-06-24T07:43:51.970156Z",
     "shell.execute_reply": "2022-06-24T07:43:51.969288Z"
    },
    "papermill": {
     "duration": 0.01427,
     "end_time": "2022-06-24T07:43:51.972111",
     "exception": false,
     "start_time": "2022-06-24T07:43:51.957841",
     "status": "completed"
    },
    "tags": []
   },
   "outputs": [],
   "source": [
    "# test.isna().sum()"
   ]
  },
  {
   "cell_type": "code",
   "execution_count": 12,
   "id": "32ddef70",
   "metadata": {
    "execution": {
     "iopub.execute_input": "2022-06-24T07:43:51.987287Z",
     "iopub.status.busy": "2022-06-24T07:43:51.986933Z",
     "iopub.status.idle": "2022-06-24T07:43:51.991139Z",
     "shell.execute_reply": "2022-06-24T07:43:51.990056Z"
    },
    "papermill": {
     "duration": 0.014616,
     "end_time": "2022-06-24T07:43:51.993656",
     "exception": false,
     "start_time": "2022-06-24T07:43:51.979040",
     "status": "completed"
    },
    "tags": []
   },
   "outputs": [],
   "source": [
    "# # For numeric columns\n",
    "# numeric_columns = test.select_dtypes(np.number).columns\n",
    "# test[numeric_columns] = test[numeric_columns].fillna(test[numeric_columns].mean())"
   ]
  },
  {
   "cell_type": "code",
   "execution_count": null,
   "id": "514b66b7",
   "metadata": {
    "papermill": {
     "duration": 0.006536,
     "end_time": "2022-06-24T07:43:52.007362",
     "exception": false,
     "start_time": "2022-06-24T07:43:52.000826",
     "status": "completed"
    },
    "tags": []
   },
   "outputs": [],
   "source": []
  },
  {
   "cell_type": "code",
   "execution_count": 13,
   "id": "9cc81250",
   "metadata": {
    "execution": {
     "iopub.execute_input": "2022-06-24T07:43:52.023285Z",
     "iopub.status.busy": "2022-06-24T07:43:52.022575Z",
     "iopub.status.idle": "2022-06-24T07:43:57.072539Z",
     "shell.execute_reply": "2022-06-24T07:43:57.071474Z"
    },
    "papermill": {
     "duration": 5.060386,
     "end_time": "2022-06-24T07:43:57.074543",
     "exception": false,
     "start_time": "2022-06-24T07:43:52.014157",
     "status": "completed"
    },
    "tags": []
   },
   "outputs": [],
   "source": [
    "# Score up the test dataset\n",
    "test_preds = xgb_classifier.predict(test)\n",
    "# test_preds.view()\n"
   ]
  },
  {
   "cell_type": "markdown",
   "id": "2f4207fc",
   "metadata": {
    "papermill": {
     "duration": 0.004215,
     "end_time": "2022-06-24T07:43:57.083426",
     "exception": false,
     "start_time": "2022-06-24T07:43:57.079211",
     "status": "completed"
    },
    "tags": []
   },
   "source": [
    "### Submission"
   ]
  },
  {
   "cell_type": "code",
   "execution_count": 14,
   "id": "04fcf556",
   "metadata": {
    "execution": {
     "iopub.execute_input": "2022-06-24T07:43:57.093183Z",
     "iopub.status.busy": "2022-06-24T07:43:57.092817Z",
     "iopub.status.idle": "2022-06-24T07:43:59.197691Z",
     "shell.execute_reply": "2022-06-24T07:43:59.196864Z"
    },
    "papermill": {
     "duration": 2.113234,
     "end_time": "2022-06-24T07:43:59.200807",
     "exception": false,
     "start_time": "2022-06-24T07:43:57.087573",
     "status": "completed"
    },
    "tags": []
   },
   "outputs": [
    {
     "data": {
      "text/html": [
       "<div>\n",
       "<style scoped>\n",
       "    .dataframe tbody tr th:only-of-type {\n",
       "        vertical-align: middle;\n",
       "    }\n",
       "\n",
       "    .dataframe tbody tr th {\n",
       "        vertical-align: top;\n",
       "    }\n",
       "\n",
       "    .dataframe thead th {\n",
       "        text-align: right;\n",
       "    }\n",
       "</style>\n",
       "<table border=\"1\" class=\"dataframe\">\n",
       "  <thead>\n",
       "    <tr style=\"text-align: right;\">\n",
       "      <th></th>\n",
       "      <th>customer_ID</th>\n",
       "      <th>prediction</th>\n",
       "    </tr>\n",
       "  </thead>\n",
       "  <tbody>\n",
       "    <tr>\n",
       "      <th>0</th>\n",
       "      <td>00000469ba478561f23a92a868bd366de6f6527a684c9a...</td>\n",
       "      <td>0</td>\n",
       "    </tr>\n",
       "    <tr>\n",
       "      <th>1</th>\n",
       "      <td>00001bf2e77ff879fab36aa4fac689b9ba411dae63ae39...</td>\n",
       "      <td>0</td>\n",
       "    </tr>\n",
       "    <tr>\n",
       "      <th>2</th>\n",
       "      <td>0000210045da4f81e5f122c6bde5c2a617d03eef67f82c...</td>\n",
       "      <td>0</td>\n",
       "    </tr>\n",
       "    <tr>\n",
       "      <th>3</th>\n",
       "      <td>00003b41e58ede33b8daf61ab56d9952f17c9ad1c3976c...</td>\n",
       "      <td>0</td>\n",
       "    </tr>\n",
       "    <tr>\n",
       "      <th>4</th>\n",
       "      <td>00004b22eaeeeb0ec976890c1d9bfc14fd9427e98c4ee9...</td>\n",
       "      <td>0</td>\n",
       "    </tr>\n",
       "  </tbody>\n",
       "</table>\n",
       "</div>"
      ],
      "text/plain": [
       "                                         customer_ID  prediction\n",
       "0  00000469ba478561f23a92a868bd366de6f6527a684c9a...           0\n",
       "1  00001bf2e77ff879fab36aa4fac689b9ba411dae63ae39...           0\n",
       "2  0000210045da4f81e5f122c6bde5c2a617d03eef67f82c...           0\n",
       "3  00003b41e58ede33b8daf61ab56d9952f17c9ad1c3976c...           0\n",
       "4  00004b22eaeeeb0ec976890c1d9bfc14fd9427e98c4ee9...           0"
      ]
     },
     "execution_count": 14,
     "metadata": {},
     "output_type": "execute_result"
    }
   ],
   "source": [
    "# Make submission\n",
    "sub_data = pd.read_csv('../input/amex-default-prediction/sample_submission.csv')\n",
    "sub_data.head()"
   ]
  },
  {
   "cell_type": "code",
   "execution_count": 15,
   "id": "01cf04b5",
   "metadata": {
    "execution": {
     "iopub.execute_input": "2022-06-24T07:43:59.212484Z",
     "iopub.status.busy": "2022-06-24T07:43:59.211679Z",
     "iopub.status.idle": "2022-06-24T07:43:59.217567Z",
     "shell.execute_reply": "2022-06-24T07:43:59.216779Z"
    },
    "papermill": {
     "duration": 0.013124,
     "end_time": "2022-06-24T07:43:59.219074",
     "exception": false,
     "start_time": "2022-06-24T07:43:59.205950",
     "status": "completed"
    },
    "tags": []
   },
   "outputs": [
    {
     "data": {
      "text/plain": [
       "(924621, 2)"
      ]
     },
     "execution_count": 15,
     "metadata": {},
     "output_type": "execute_result"
    }
   ],
   "source": [
    "sub_data.shape"
   ]
  },
  {
   "cell_type": "code",
   "execution_count": 16,
   "id": "69e4c2a9",
   "metadata": {
    "execution": {
     "iopub.execute_input": "2022-06-24T07:43:59.230545Z",
     "iopub.status.busy": "2022-06-24T07:43:59.229839Z",
     "iopub.status.idle": "2022-06-24T07:43:59.241564Z",
     "shell.execute_reply": "2022-06-24T07:43:59.240830Z"
    },
    "papermill": {
     "duration": 0.019698,
     "end_time": "2022-06-24T07:43:59.243580",
     "exception": false,
     "start_time": "2022-06-24T07:43:59.223882",
     "status": "completed"
    },
    "tags": []
   },
   "outputs": [
    {
     "data": {
      "text/html": [
       "<div>\n",
       "<style scoped>\n",
       "    .dataframe tbody tr th:only-of-type {\n",
       "        vertical-align: middle;\n",
       "    }\n",
       "\n",
       "    .dataframe tbody tr th {\n",
       "        vertical-align: top;\n",
       "    }\n",
       "\n",
       "    .dataframe thead th {\n",
       "        text-align: right;\n",
       "    }\n",
       "</style>\n",
       "<table border=\"1\" class=\"dataframe\">\n",
       "  <thead>\n",
       "    <tr style=\"text-align: right;\">\n",
       "      <th></th>\n",
       "      <th>customer_ID</th>\n",
       "      <th>prediction</th>\n",
       "    </tr>\n",
       "  </thead>\n",
       "  <tbody>\n",
       "    <tr>\n",
       "      <th>0</th>\n",
       "      <td>00000469ba478561f23a92a868bd366de6f6527a684c9a...</td>\n",
       "      <td>0</td>\n",
       "    </tr>\n",
       "    <tr>\n",
       "      <th>1</th>\n",
       "      <td>00001bf2e77ff879fab36aa4fac689b9ba411dae63ae39...</td>\n",
       "      <td>0</td>\n",
       "    </tr>\n",
       "    <tr>\n",
       "      <th>2</th>\n",
       "      <td>0000210045da4f81e5f122c6bde5c2a617d03eef67f82c...</td>\n",
       "      <td>0</td>\n",
       "    </tr>\n",
       "    <tr>\n",
       "      <th>3</th>\n",
       "      <td>00003b41e58ede33b8daf61ab56d9952f17c9ad1c3976c...</td>\n",
       "      <td>0</td>\n",
       "    </tr>\n",
       "    <tr>\n",
       "      <th>4</th>\n",
       "      <td>00004b22eaeeeb0ec976890c1d9bfc14fd9427e98c4ee9...</td>\n",
       "      <td>1</td>\n",
       "    </tr>\n",
       "  </tbody>\n",
       "</table>\n",
       "</div>"
      ],
      "text/plain": [
       "                                         customer_ID  prediction\n",
       "0  00000469ba478561f23a92a868bd366de6f6527a684c9a...           0\n",
       "1  00001bf2e77ff879fab36aa4fac689b9ba411dae63ae39...           0\n",
       "2  0000210045da4f81e5f122c6bde5c2a617d03eef67f82c...           0\n",
       "3  00003b41e58ede33b8daf61ab56d9952f17c9ad1c3976c...           0\n",
       "4  00004b22eaeeeb0ec976890c1d9bfc14fd9427e98c4ee9...           1"
      ]
     },
     "execution_count": 16,
     "metadata": {},
     "output_type": "execute_result"
    }
   ],
   "source": [
    "sub_data['prediction'] = test_preds\n",
    "sub_data.head()"
   ]
  },
  {
   "cell_type": "code",
   "execution_count": 17,
   "id": "ddb55344",
   "metadata": {
    "execution": {
     "iopub.execute_input": "2022-06-24T07:43:59.255317Z",
     "iopub.status.busy": "2022-06-24T07:43:59.254378Z",
     "iopub.status.idle": "2022-06-24T07:44:02.275425Z",
     "shell.execute_reply": "2022-06-24T07:44:02.274796Z"
    },
    "papermill": {
     "duration": 3.028895,
     "end_time": "2022-06-24T07:44:02.277451",
     "exception": false,
     "start_time": "2022-06-24T07:43:59.248556",
     "status": "completed"
    },
    "tags": []
   },
   "outputs": [],
   "source": [
    "# Submission file\n",
    "sub_data.to_csv('submission.csv', index=False)"
   ]
  },
  {
   "cell_type": "code",
   "execution_count": null,
   "id": "97666da0",
   "metadata": {
    "papermill": {
     "duration": 0.00469,
     "end_time": "2022-06-24T07:44:02.287485",
     "exception": false,
     "start_time": "2022-06-24T07:44:02.282795",
     "status": "completed"
    },
    "tags": []
   },
   "outputs": [],
   "source": []
  }
 ],
 "metadata": {
  "kernelspec": {
   "display_name": "Python 3",
   "language": "python",
   "name": "python3"
  },
  "language_info": {
   "codemirror_mode": {
    "name": "ipython",
    "version": 3
   },
   "file_extension": ".py",
   "mimetype": "text/x-python",
   "name": "python",
   "nbconvert_exporter": "python",
   "pygments_lexer": "ipython3",
   "version": "3.7.12"
  },
  "papermill": {
   "default_parameters": {},
   "duration": 104.727057,
   "end_time": "2022-06-24T07:44:03.214625",
   "environment_variables": {},
   "exception": null,
   "input_path": "__notebook__.ipynb",
   "output_path": "__notebook__.ipynb",
   "parameters": {},
   "start_time": "2022-06-24T07:42:18.487568",
   "version": "2.3.4"
  }
 },
 "nbformat": 4,
 "nbformat_minor": 5
}
